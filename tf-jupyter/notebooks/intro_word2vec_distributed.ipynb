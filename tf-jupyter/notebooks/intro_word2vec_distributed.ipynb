{
 "cells": [
  {
   "cell_type": "code",
   "execution_count": 1,
   "metadata": {
    "collapsed": false
   },
   "outputs": [
    {
     "name": "stderr",
     "output_type": "stream",
     "text": [
      "/usr/local/lib/python2.7/dist-packages/matplotlib/font_manager.py:273: UserWarning: Matplotlib is building the font cache using fc-list. This may take a moment.\n",
      "  warnings.warn('Matplotlib is building the font cache using fc-list. This may take a moment.')\n"
     ]
    }
   ],
   "source": [
    "%matplotlib inline\n",
    "\n",
    "from __future__ import absolute_import\n",
    "from __future__ import division\n",
    "from __future__ import print_function\n",
    "\n",
    "import collections\n",
    "import math\n",
    "import os\n",
    "import time\n",
    "import random\n",
    "import zipfile\n",
    "\n",
    "import numpy as np\n",
    "from six.moves import urllib\n",
    "from six.moves import xrange  # pylint: disable=redefined-builtin\n",
    "import tensorflow as tf\n",
    "from matplotlib import pylab"
   ]
  },
  {
   "cell_type": "markdown",
   "metadata": {},
   "source": [
    "## Step 1: Download the Data"
   ]
  },
  {
   "cell_type": "code",
   "execution_count": 2,
   "metadata": {
    "collapsed": false
   },
   "outputs": [],
   "source": [
    "url = 'http://mattmahoney.net/dc/'\n",
    "\n",
    "\n",
    "def maybe_download(filename, expected_bytes):\n",
    "    \"\"\"Download a file if not present, and make sure it's the right size.\"\"\"\n",
    "    if not os.path.exists(filename):\n",
    "        filename, _ = urllib.request.urlretrieve(url + filename, filename)\n",
    "        statinfo = os.stat(filename)\n",
    "        if statinfo.st_size == expected_bytes:\n",
    "            print('Found and verified', filename)\n",
    "        else:\n",
    "            print(statinfo.st_size)\n",
    "            raise Exception(\n",
    "                'Failed to verify {}. \\\n",
    "                Can you get to it with a browser?'.format(\n",
    "                    filename\n",
    "                )\n",
    "            )\n",
    "    return filename\n",
    "\n",
    "filename = maybe_download('text8.zip', 31344016)"
   ]
  },
  {
   "cell_type": "markdown",
   "metadata": {},
   "source": [
    "### Read the data into a list of strings"
   ]
  },
  {
   "cell_type": "code",
   "execution_count": 3,
   "metadata": {
    "collapsed": false
   },
   "outputs": [
    {
     "name": "stdout",
     "output_type": "stream",
     "text": [
      "Data size 17005207\n"
     ]
    }
   ],
   "source": [
    "def read_data(filename):\n",
    "    \"\"\"Extract the first file enclosed in a zip file as a list of words\"\"\"\n",
    "    with zipfile.ZipFile(filename) as f:\n",
    "        data = f.read(f.namelist()[0]).split()\n",
    "    return data\n",
    "\n",
    "words = read_data(filename)\n",
    "print('Data size', len(words))"
   ]
  },
  {
   "cell_type": "markdown",
   "metadata": {},
   "source": [
    "## Step 2: Build the dictionary and replace rare words with UNK token"
   ]
  },
  {
   "cell_type": "code",
   "execution_count": 4,
   "metadata": {
    "collapsed": false
   },
   "outputs": [
    {
     "name": "stdout",
     "output_type": "stream",
     "text": [
      "Most common words (+UNK) [['UNK', 418391], ('the', 1061396), ('of', 593677), ('and', 416629), ('one', 411764)]\n",
      "Sample data [5239, 3084, 12, 6, 195, 2, 3137, 46, 59, 156] ['anarchism', 'originated', 'as', 'a', 'term', 'of', 'abuse', 'first', 'used', 'against']\n"
     ]
    }
   ],
   "source": [
    "vocabulary_size = 50000\n",
    "\n",
    "\n",
    "def build_dataset(words):\n",
    "    count = [['UNK', -1]]\n",
    "    count.extend(collections.Counter(words).most_common(vocabulary_size - 1))\n",
    "    dictionary = dict()\n",
    "    for word, _ in count:\n",
    "        dictionary[word] = len(dictionary)\n",
    "    data = list()\n",
    "    unk_count = 0\n",
    "    for word in words:\n",
    "        if word in dictionary:\n",
    "            index = dictionary[word]\n",
    "        else:\n",
    "            index = 0  # dictionary['UNK']\n",
    "            unk_count += 1\n",
    "        data.append(index)\n",
    "    count[0][1] = unk_count\n",
    "    reverse_dictionary = dict(zip(dictionary.values(), dictionary.keys()))\n",
    "    return data, count, dictionary, reverse_dictionary\n",
    "\n",
    "data, count, dictionary, reverse_dictionary = build_dataset(words)\n",
    "del words  # Hint to reduce memory.\n",
    "print('Most common words (+UNK)', count[:5])\n",
    "print('Sample data', data[:10], [reverse_dictionary[i] for i in data[:10]])\n",
    "\n",
    "data_index = 0"
   ]
  },
  {
   "cell_type": "markdown",
   "metadata": {},
   "source": [
    "## Step 3: Function to generate a training batch for the skip-gram model"
   ]
  },
  {
   "cell_type": "code",
   "execution_count": 5,
   "metadata": {
    "collapsed": false
   },
   "outputs": [
    {
     "name": "stdout",
     "output_type": "stream",
     "text": [
      "3084 originated -> 12 as\n",
      "3084 originated -> 5239 anarchism\n",
      "12 as -> 3084 originated\n",
      "12 as -> 6 a\n",
      "6 a -> 195 term\n",
      "6 a -> 12 as\n",
      "195 term -> 2 of\n",
      "195 term -> 6 a\n"
     ]
    }
   ],
   "source": [
    "def generate_batch(batch_size, num_skips, skip_window):\n",
    "    global data_index\n",
    "    assert batch_size % num_skips == 0\n",
    "    assert num_skips <= 2 * skip_window\n",
    "    batch = np.ndarray(shape=(batch_size), dtype=np.int32)\n",
    "    labels = np.ndarray(shape=(batch_size, 1), dtype=np.int32)\n",
    "    span = 2 * skip_window + 1  # [ skip_window target skip_window ]\n",
    "    buffer = collections.deque(maxlen=span)\n",
    "    for _ in range(span):\n",
    "        buffer.append(data[data_index])\n",
    "        data_index = (data_index + 1) % len(data)\n",
    "    for i in range(batch_size // num_skips):\n",
    "        target = skip_window  # target label at the center of the buffer\n",
    "        targets_to_avoid = [skip_window]\n",
    "        for j in range(num_skips):\n",
    "            while target in targets_to_avoid:\n",
    "                target = random.randint(0, span - 1)\n",
    "            targets_to_avoid.append(target)\n",
    "            batch[i * num_skips + j] = buffer[skip_window]\n",
    "            labels[i * num_skips + j, 0] = buffer[target]\n",
    "        buffer.append(data[data_index])\n",
    "        data_index = (data_index + 1) % len(data)\n",
    "    return batch, labels\n",
    "\n",
    "batch, labels = generate_batch(batch_size=8, num_skips=2, skip_window=1)\n",
    "for i in range(8):\n",
    "    print(\n",
    "        batch[i],\n",
    "        reverse_dictionary[batch[i]],\n",
    "        '->',\n",
    "        labels[i, 0],\n",
    "        reverse_dictionary[labels[i, 0]]\n",
    "    )"
   ]
  },
  {
   "cell_type": "markdown",
   "metadata": {},
   "source": [
    "## Step 4: Build and train a skip-gram model"
   ]
  },
  {
   "cell_type": "markdown",
   "metadata": {},
   "source": [
    "### Fetch the cluster definition"
   ]
  },
  {
   "cell_type": "code",
   "execution_count": 6,
   "metadata": {
    "collapsed": false
   },
   "outputs": [
    {
     "name": "stdout",
     "output_type": "stream",
     "text": [
      "{'ps': ['ps-0.default.svc.cluster.local:8080', 'ps-1.default.svc.cluster.local:8080', 'ps-2.default.svc.cluster.local:8080', 'ps-3.default.svc.cluster.local:8080'], 'worker': ['worker-0.default.svc.cluster.local:8080', 'worker-1.default.svc.cluster.local:8080', 'worker-2.default.svc.cluster.local:8080', 'worker-3.default.svc.cluster.local:8080', 'worker-4.default.svc.cluster.local:8080', 'worker-5.default.svc.cluster.local:8080', 'worker-6.default.svc.cluster.local:8080', 'worker-7.default.svc.cluster.local:8080'], 'master': ['master-0.default.svc.cluster.local:8080']}\n"
     ]
    }
   ],
   "source": [
    "import ast\n",
    "\n",
    "cluster_config = ast.literal_eval(os.environ.get('CLUSTER_CONFIG'))\n",
    "cluster_spec = tf.train.ClusterSpec(cluster_config)\n",
    "workers = ['/job:worker/task:{}'.format(i) for i in range(len(cluster_config['worker']))]\n",
    "param_servers = ['/job:ps/task:{}'.format(i) for i in range(len(cluster_config['ps']))]\n",
    "\n",
    "print(cluster_config)"
   ]
  },
  {
   "cell_type": "markdown",
   "metadata": {},
   "source": [
    "### Define Hyperparameters and validation set"
   ]
  },
  {
   "cell_type": "code",
   "execution_count": 7,
   "metadata": {
    "collapsed": true
   },
   "outputs": [],
   "source": [
    "batch_size = 128\n",
    "embedding_size = 128  # Dimension of the embedding vector.\n",
    "skip_window = 1       # How many words to consider left and right.\n",
    "num_skips = 2         # How many times to reuse an input to generate a label.\n",
    "\n",
    "# We pick a random validation set to sample nearest neighbors. Here we limit\n",
    "# validation samples to the words that have a low numeric ID, which by\n",
    "# construction are also the most frequent.\n",
    "valid_size = 16     # Random set of words to evaluate similarity on.\n",
    "valid_window = 100  # Only pick dev samples in the head of the distribution.\n",
    "valid_examples = np.random.choice(valid_window, valid_size, replace=False)\n",
    "num_sampled = 64    # Number of negative examples to sample."
   ]
  },
  {
   "cell_type": "markdown",
   "metadata": {},
   "source": [
    "### Build the model"
   ]
  },
  {
   "cell_type": "code",
   "execution_count": null,
   "metadata": {
    "collapsed": false
   },
   "outputs": [
    {
     "name": "stdout",
     "output_type": "stream",
     "text": [
      "Graph Definition Complete\n"
     ]
    }
   ],
   "source": [
    "graph = tf.Graph()\n",
    "with graph.as_default():\n",
    "    valid_dataset = tf.constant(valid_examples, dtype=tf.int32)\n",
    "\n",
    "    # Input data.\n",
    "    train_inputs = tf.placeholder(tf.int32, shape=[batch_size])\n",
    "    train_labels = tf.placeholder(tf.int32, shape=[batch_size, 1])\n",
    "\n",
    "    # Make one minibatch of data for each worker\n",
    "    train_inputs_list = tf.split(0, len(workers), train_inputs)\n",
    "    train_labels_list = tf.split(0, len(workers), train_labels)\n",
    "\n",
    "\n",
    "    # Create a variable embedding for each parameter server\n",
    "    embeddings = []\n",
    "    for ps in param_servers:\n",
    "        with tf.device(ps):\n",
    "            embeddings.append(\n",
    "                tf.Variable(tf.random_uniform(\n",
    "                    [vocabulary_size, embedding_size],\n",
    "                    -1.0,\n",
    "                    1.0\n",
    "                ))\n",
    "            )\n",
    "\n",
    "    with tf.device(tf.train.replica_device_setter(cluster=cluster_spec)):\n",
    "        # Construct the variables for the NCE loss\n",
    "        nce_weights = tf.Variable(\n",
    "            tf.truncated_normal([vocabulary_size, embedding_size],\n",
    "                                stddev=1.0 / math.sqrt(embedding_size)))\n",
    "        nce_biases = tf.Variable(tf.zeros([vocabulary_size]))\n",
    "        global_step = tf.Variable(0)\n",
    "\n",
    "    losses = []\n",
    "    summaries = []\n",
    "    # Assign computational tasks to each worker\n",
    "    for i, worker in enumerate(workers):\n",
    "        with tf.device(worker):\n",
    "            # Look up embeddings for inputs.\n",
    "            embed = tf.nn.embedding_lookup(embeddings, train_inputs_list[i])\n",
    "            # Compute the average NCE loss for the batch.\n",
    "            # tf.nce_loss automatically draws a new sample of the negative\n",
    "            # labels each time we evaluate the loss.\n",
    "            loss = tf.reduce_mean(\n",
    "                tf.nn.nce_loss(nce_weights, nce_biases, embed, train_labels_list[i],\n",
    "                               num_sampled, vocabulary_size))\n",
    "            losses.append(loss)\n",
    "            summaries.append(tf.scalar_summary(\"loss-{}\".format(i), loss))\n",
    "\n",
    "\n",
    "    average_loss_op = tf.add_n(losses) / tf.convert_to_tensor(len(losses), dtype=tf.float32)\n",
    "    # Construct the SGD optimizer using a learning rate of 1.0.\n",
    "    train_op = tf.train.GradientDescentOptimizer(1.0).minimize(\n",
    "        average_loss_op, global_step=global_step)\n",
    "\n",
    "    summaries.append(tf.scalar_summary(\"average-loss\", average_loss_op))\n",
    "    summary_op = tf.merge_summary(summaries)\n",
    "    init_op = tf.initialize_all_variables()\n",
    "\n",
    "    # Compute the cosine similarity between minibatch examples\n",
    "    # and the embeddings\n",
    "    average_embeddings = tf.add_n(embeddings) / tf.convert_to_tensor(len(embeddings), dtype=tf.float32)\n",
    "\n",
    "    norm = tf.sqrt(tf.reduce_sum(\n",
    "               tf.square(average_embeddings), 1, keep_dims=True))\n",
    "    normalized_embeddings = average_embeddings / norm\n",
    "    valid_embeddings = tf.nn.embedding_lookup(average_embeddings, valid_dataset)\n",
    "    similarity = tf.matmul(\n",
    "        valid_embeddings, normalized_embeddings, transpose_b=True)\n",
    "\n",
    "print(\"Graph Definition Complete\")\n",
    "        "
   ]
  },
  {
   "cell_type": "markdown",
   "metadata": {},
   "source": [
    "## Step 5: Begin Training"
   ]
  },
  {
   "cell_type": "code",
   "execution_count": null,
   "metadata": {
    "collapsed": false
   },
   "outputs": [
    {
     "name": "stdout",
     "output_type": "stream",
     "text": [
      "Initialized\n",
      "Average loss at step 63: 237.569086953 \t Steps/Second: 6.29469477033\n",
      "Average loss at step 142: 178.117373503 \t Steps/Second: 7.88891531622\n",
      "Average loss at step 222: 144.68518095 \t Steps/Second: 7.94474991715\n",
      "Average loss at step 321: 126.283704661 \t Steps/Second: 9.83437798727\n",
      "Average loss at step 431: 104.918158514 \t Steps/Second: 10.9071993078\n",
      "Average loss at step 536: 90.6023463295 \t Steps/Second: 10.4133899153\n",
      "Average loss at step 635: 81.909798362 \t Steps/Second: 9.87470478935\n"
     ]
    }
   ],
   "source": [
    "num_steps = 100000\n",
    "\n",
    "\n",
    "with tf.Session('grpc://localhost:8080', graph=graph) as session:\n",
    "    init_op.run()\n",
    "    print(\"Initialized\")\n",
    "\n",
    "    last_report_time = time.time()\n",
    "    last_report_step = 0\n",
    "    average_loss_total = 0\n",
    "    step = 0\n",
    "    timestamp = str(int(last_report_time))\n",
    "    log_dir = '/var/log/tensorflow/word2vec_basic/summaries/{}'.format(\n",
    "        timestamp)\n",
    "    summary_writer = tf.train.SummaryWriter(log_dir, graph=graph)\n",
    "\n",
    "    while step < num_steps:\n",
    "        batch_inputs, batch_labels = generate_batch(\n",
    "            batch_size, num_skips, skip_window)\n",
    "        feed_dict = {train_inputs: batch_inputs, train_labels: batch_labels}\n",
    "\n",
    "        # We perform one update step by evaluating the optimizer op\n",
    "        # Also evaluate the training summary op\n",
    "        # Average the workers' losses, and advance the global step\n",
    "        _, summary, average_loss, step = session.run(\n",
    "            [train_op, summary_op, average_loss_op, global_step],\n",
    "            feed_dict=feed_dict\n",
    "        )\n",
    "        \n",
    "        summary_writer.add_summary(summary, global_step=step)\n",
    "        average_loss_total += average_loss\n",
    "        cur_time = time.time()\n",
    "\n",
    "        if cur_time > last_report_time + 10:\n",
    "            # The average loss is an estimate of the loss over the last 2000\n",
    "            # batches.\n",
    "            steps = step - last_report_step\n",
    "            print(\"Average loss at step {}: {} \\t Steps/Second: {}\".format(\n",
    "                    step,\n",
    "                    average_loss_total / steps,\n",
    "                    steps / (cur_time - last_report_time)\n",
    "            ))\n",
    "            last_report_time = cur_time\n",
    "            last_report_step = step\n",
    "            average_loss_total = 0\n",
    "            \n",
    "            \n",
    "    print(\"   Nearest words:\")\n",
    "    sim = similarity.eval()\n",
    "    for i in xrange(valid_size):\n",
    "        valid_word = reverse_dictionary[valid_examples[i]]\n",
    "        top_k = 8  # number of nearest neighbors\n",
    "        nearest = (-sim[i, :]).argsort()[1:top_k+1]\n",
    "        print(\"      {}: {}\".format(\n",
    "            valid_word, ', '.join(\n",
    "                reverse_dictionary[nearest[k]] for k in range(top_k)\n",
    "            ))\n",
    "        )\n",
    "    final_embeddings = normalized_embeddings.eval()\n"
   ]
  },
  {
   "cell_type": "markdown",
   "metadata": {
    "collapsed": true
   },
   "source": [
    "### Step 6: Visualize the embeddings"
   ]
  },
  {
   "cell_type": "code",
   "execution_count": null,
   "metadata": {
    "collapsed": false
   },
   "outputs": [],
   "source": [
    "def plot_with_labels(low_dim_embs, labels):\n",
    "    assert low_dim_embs.shape[0] >= len(labels), \"More labels than embeddings\"\n",
    "    pylab.figure(figsize=(18, 18))  # in inches\n",
    "    for i, label in enumerate(labels):\n",
    "        x, y = low_dim_embs[i, :]\n",
    "        pylab.scatter(x, y)\n",
    "        pylab.annotate(label,\n",
    "                     xy=(x, y),\n",
    "                     xytext=(5, 2),\n",
    "                     textcoords='offset points',\n",
    "                     ha='right',\n",
    "                     va='bottom')\n",
    "\n",
    "    pylab.show()\n",
    "    \n",
    "from sklearn.manifold import TSNE\n",
    "\n",
    "tsne = TSNE(perplexity=30, n_components=2, init='pca', n_iter=5000)\n",
    "plot_only = 500\n",
    "low_dim_embs = tsne.fit_transform(final_embeddings[:plot_only, :])\n",
    "labels = [reverse_dictionary[i] for i in xrange(plot_only)]\n",
    "plot_with_labels(low_dim_embs, labels)"
   ]
  },
  {
   "cell_type": "code",
   "execution_count": null,
   "metadata": {
    "collapsed": true
   },
   "outputs": [],
   "source": []
  }
 ],
 "metadata": {
  "kernelspec": {
   "display_name": "Python 2",
   "language": "python",
   "name": "python2"
  },
  "language_info": {
   "codemirror_mode": {
    "name": "ipython",
    "version": 2
   },
   "file_extension": ".py",
   "mimetype": "text/x-python",
   "name": "python",
   "nbconvert_exporter": "python",
   "pygments_lexer": "ipython2",
   "version": "2.7.6"
  }
 },
 "nbformat": 4,
 "nbformat_minor": 0
}
